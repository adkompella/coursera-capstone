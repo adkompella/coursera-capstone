{
 "cells": [
  {
   "cell_type": "code",
   "execution_count": 23,
   "metadata": {},
   "outputs": [
    {
     "name": "stdout",
     "output_type": "stream",
     "text": [
      "Libraries imported!\n"
     ]
    }
   ],
   "source": [
    "import numpy as np # library to handle data in a vectorized manner\n",
    "\n",
    "import pandas as pd # library for data analsysis\n",
    "pd.set_option('display.max_columns', None)\n",
    "pd.set_option('display.max_rows', None)\n",
    "pd.set_option('display.max_colwidth',200)\n",
    "#Install BeautifulSoup package, uncomment this line after first time\n",
    "#!conda install -c beautifulsoup4 --yes as bs4 \n",
    "from bs4 import BeautifulSoup\n",
    "\n",
    "import requests # library to handle requests\n",
    "\n",
    "print('Libraries imported!')"
   ]
  },
  {
   "cell_type": "code",
   "execution_count": null,
   "metadata": {},
   "outputs": [],
   "source": [
    "#get html of the website using requests package\n",
    "wikipage = requests.get('https://en.wikipedia.org/wiki/List_of_postal_codes_of_Canada:_M').text\n",
    "#print(wikipage)"
   ]
  },
  {
   "cell_type": "code",
   "execution_count": null,
   "metadata": {},
   "outputs": [],
   "source": [
    "#get html structure\n",
    "soup = BeautifulSoup(url,'lxml')\n",
    "#print(soup.prettify())"
   ]
  },
  {
   "cell_type": "code",
   "execution_count": null,
   "metadata": {},
   "outputs": [],
   "source": [
    "#After examining the html, find class ‘wikitable sortable’ in the HTML script\n",
    "neigh_table = soup.find('table',{'class':'wikitable sortable'})\n",
    "type(neigh_table)"
   ]
  },
  {
   "cell_type": "code",
   "execution_count": null,
   "metadata": {},
   "outputs": [],
   "source": [
    "data = []\n",
    "#Get all table rows\n",
    "for tr in neigh_table.find_all('tr'):\n",
    "        tds = tr.find_all('td')\n",
    "        if not tds:\n",
    "            continue\n",
    "        postcode, borough, neighborhood = [td.text.strip() for td in tds[:3]]\n",
    "        # Do not process boroughs that are Not assigned\n",
    "        if (borough == \"Not assigned\"):\n",
    "            continue;\n",
    "        # If neighborhood is not not assigned, it gets the same value as borough\n",
    "        if (neighborhood == \"Not assigned\"):\n",
    "            neighborhood = borough\n",
    "        #print (postcode, borough, neighborhood)\n",
    "        data.append([postcode, borough, neighborhood])\n",
    "data"
   ]
  },
  {
   "cell_type": "code",
   "execution_count": null,
   "metadata": {},
   "outputs": [],
   "source": [
    "# define the dataframe columns\n",
    "column_names = ['PostCode', 'Borough', 'Neighborhood'] \n",
    "\n",
    "# instantiate the dataframe\n",
    "neighborhoods = pd.DataFrame(data,columns=column_names)\n",
    "\n",
    "#Aggregate Neighborhoods\n",
    "neighborhoods = neighborhoods.groupby(['PostCode','Borough'])['Neighborhood'].apply(list)\n",
    "\n",
    "#Convert grouped neighborhoods to dataframe\n",
    "neighborhoods_grouped = pd.DataFrame({'Neighborhood' :neighborhoods}).reset_index()\n",
    "neighborhoods_grouped\n"
   ]
  },
  {
   "cell_type": "code",
   "execution_count": null,
   "metadata": {},
   "outputs": [],
   "source": [
    "print(neighborhoods_grouped.shape)"
   ]
  },
  {
   "cell_type": "code",
   "execution_count": null,
   "metadata": {},
   "outputs": [],
   "source": []
  },
  {
   "cell_type": "code",
   "execution_count": null,
   "metadata": {
    "collapsed": true
   },
   "outputs": [],
   "source": []
  }
 ],
 "metadata": {
  "kernelspec": {
   "display_name": "Python 3",
   "language": "python",
   "name": "python3"
  },
  "language_info": {
   "codemirror_mode": {
    "name": "ipython",
    "version": 3
   },
   "file_extension": ".py",
   "mimetype": "text/x-python",
   "name": "python",
   "nbconvert_exporter": "python",
   "pygments_lexer": "ipython3",
   "version": "3.6.6"
  }
 },
 "nbformat": 4,
 "nbformat_minor": 2
}
